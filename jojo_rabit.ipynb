{
 "cells": [
  {
   "cell_type": "code",
   "execution_count": 18,
   "metadata": {},
   "outputs": [
    {
     "name": "stderr",
     "output_type": "stream",
     "text": [
      "100%|██████████| 1196/1196 [01:15<00:00, 15.81it/s]"
     ]
    },
    {
     "name": "stdout",
     "output_type": "stream",
     "text": [
      "[  0 128 255]\n"
     ]
    },
    {
     "name": "stderr",
     "output_type": "stream",
     "text": [
      "\n"
     ]
    }
   ],
   "source": [
    "import numpy as np\n",
    "import cv2\n",
    "import os\n",
    "from tqdm import tqdm\n",
    "masks_path = '/home/yaniv.sheinfeld/data/je/Masks/train_5.4.7_201'\n",
    "\n",
    "mask_values = []\n",
    "for file in tqdm(os.listdir(masks_path)):\n",
    "    mask = cv2.imread(os.path.join(masks_path, file),cv2.IMREAD_COLOR)\n",
    "    if mask is not None:\n",
    "        mask_values.extend(np.unique(mask).tolist())\n",
    "        \n",
    "print(np.unique(np.array(mask_values)))\n",
    "    \n"
   ]
  },
  {
   "cell_type": "code",
   "execution_count": 40,
   "metadata": {},
   "outputs": [
    {
     "name": "stderr",
     "output_type": "stream",
     "text": [
      "100%|██████████| 11866/11866 [05:51<00:00, 33.79it/s]\n"
     ]
    }
   ],
   "source": [
    "class_dict = {'background': [0,0,0], \n",
    "              'chip': [255,0,0],\n",
    "              'crack': [0,255,0],\n",
    "              'grinding': [0,0,255],\n",
    "              'contamination': [128,128,128],\n",
    "              'dent': [255,255,0],\n",
    "              'sticky': [0,255,255]}\n",
    "\n",
    "rgb_masks_folder = '/home/yaniv.sheinfeld/data/je/masks_all'\n",
    "output_1_channel_masks_folder = '/home/yaniv.sheinfeld/data/je/masks_2/'\n",
    "\n",
    "# Creating a lookup table\n",
    "lookup_table = np.zeros((256, 256, 256), dtype=np.uint8)\n",
    "\n",
    "for i, (key, value) in enumerate(class_dict.items()):\n",
    "    lookup_table[value[0], value[1], value[2]] = i\n",
    "\n",
    "# Going through each image\n",
    "for im in tqdm(os.listdir(rgb_masks_folder)):\n",
    "    rgb_mask = cv2.imread(os.path.join(rgb_masks_folder, im), cv2.IMREAD_COLOR)\n",
    "    if rgb_mask is not None:\n",
    "        # Converting RGB mask to grayscale using the lookup table\n",
    "        mask = lookup_table[rgb_mask[:, :, 0], rgb_mask[:, :, 1], rgb_mask[:, :, 2]]\n",
    "        cv2.imwrite(os.path.join(output_1_channel_masks_folder, im), mask)"
   ]
  },
  {
   "cell_type": "code",
   "execution_count": 38,
   "metadata": {},
   "outputs": [
    {
     "data": {
      "text/plain": [
       "<matplotlib.image.AxesImage at 0x7f3c64db4a60>"
      ]
     },
     "execution_count": 38,
     "metadata": {},
     "output_type": "execute_result"
    },
    {
     "data": {
      "image/png": "[encoded data removed]",
      "text/plain": [
       "<Figure size 640x480 with 1 Axes>"
      ]
     },
     "metadata": {},
     "output_type": "display_data"
    }
   ],
   "source": [
    "import matplotlib.pyplot as plt\n",
    "%matplotlib inline\n",
    "rgbmask = '/home/yaniv.sheinfeld/data/je/masks_all/101_7-44-39-833_ng.png'\n",
    "graymask = '/home/yaniv.sheinfeld/data/je/masks_2/101_7-44-39-833_ng.png'\n",
    "rgb_mask = cv2.imread(rgbmask, cv2.IMREAD_COLOR)\n",
    "gray_mask = cv2.imread(graymask, cv2.IMREAD_GRAYSCALE)\n",
    "plt.imshow(rgb_mask)\n"
   ]
  },
  {
   "cell_type": "code",
   "execution_count": 46,
   "metadata": {},
   "outputs": [
    {
     "name": "stderr",
     "output_type": "stream",
     "text": [
      "100%|██████████| 13040/13040 [00:00<00:00, 548830.71it/s]\n"
     ]
    }
   ],
   "source": [
    "\n",
    "path = '/home/yaniv.sheinfeld/data/je/ann_dir/train/'\n",
    "\n",
    "#if file in path ends with .jpg, change it to .png\n",
    "for file in tqdm(os.listdir(path)):\n",
    "    if file.endswith('.jpg'):\n",
    "        os.rename(os.path.join(path, file), os.path.join(path, file[:-4]+'.png'))"
   ]
  }
 ],
 "metadata": {
  "kernelspec": {
   "display_name": "venv39",
   "language": "python",
   "name": "python3"
  },
  "language_info": {
   "codemirror_mode": {
    "name": "ipython",
    "version": 3
   },
   "file_extension": ".py",
   "mimetype": "text/x-python",
   "name": "python",
   "nbconvert_exporter": "python",
   "pygments_lexer": "ipython3",
   "version": "3.9.4"
  },
  "orig_nbformat": 4
 },
 "nbformat": 4,
 "nbformat_minor": 2
}
